{
  "nbformat": 4,
  "nbformat_minor": 0,
  "metadata": {
    "colab": {
      "provenance": []
    },
    "kernelspec": {
      "name": "python3",
      "display_name": "Python 3"
    },
    "language_info": {
      "name": "python"
    }
  },
  "cells": [
    {
      "cell_type": "code",
      "execution_count": null,
      "metadata": {
        "colab": {
          "base_uri": "https://localhost:8080/"
        },
        "id": "HgaWvyUil3gm",
        "outputId": "aebec86e-7059-414b-fc1e-be647b6a8e7e"
      },
      "outputs": [
        {
          "output_type": "stream",
          "name": "stdout",
          "text": [
            "\n",
            "Welcome to the ATM\n",
            "1. Check Balance\n",
            "2. Deposit Money\n",
            "3. Withdraw Money\n",
            "4. Exit\n",
            "Please select an option (1-4): 1\n",
            "Your current balance is: $1000.00\n",
            "\n",
            "Welcome to the ATM\n",
            "1. Check Balance\n",
            "2. Deposit Money\n",
            "3. Withdraw Money\n",
            "4. Exit\n",
            "Please select an option (1-4): 2\n",
            "Enter amount to deposit: 300\n",
            "You have deposited: $300.00\n",
            "\n",
            "Welcome to the ATM\n",
            "1. Check Balance\n",
            "2. Deposit Money\n",
            "3. Withdraw Money\n",
            "4. Exit\n",
            "Please select an option (1-4): 3\n",
            "Enter amount to withdraw: 100\n",
            "You have withdrawn: $100.00\n",
            "\n",
            "Welcome to the ATM\n",
            "1. Check Balance\n",
            "2. Deposit Money\n",
            "3. Withdraw Money\n",
            "4. Exit\n",
            "Please select an option (1-4): 4\n",
            "Thank you for using the ATM. Goodbye!\n"
          ]
        }
      ],
      "source": [
        "class ATM:\n",
        "    def __init__(self, initial_balance=0):\n",
        "        self.balance = initial_balance\n",
        "\n",
        "    def check_balance(self):\n",
        "        print(f\"Your current balance is: ${self.balance:.2f}\")\n",
        "\n",
        "    def deposit(self, amount):\n",
        "        if amount > 0:\n",
        "            self.balance += amount\n",
        "            print(f\"You have deposited: ${amount:.2f}\")\n",
        "        else:\n",
        "            print(\"Deposit amount must be positive.\")\n",
        "\n",
        "    def withdraw(self, amount):\n",
        "        if amount > 0:\n",
        "            if amount <= self.balance:\n",
        "                self.balance -= amount\n",
        "                print(f\"You have withdrawn: ${amount:.2f}\")\n",
        "            else:\n",
        "                print(\"Insufficient funds.\")\n",
        "        else:\n",
        "            print(\"Withdrawal amount must be positive.\")\n",
        "\n",
        "def main():\n",
        "    atm = ATM(initial_balance=1000)  # Initial balance of $1000\n",
        "    while True:\n",
        "        print(\"\\nWelcome to the ATM\")\n",
        "        print(\"1. Check Balance\")\n",
        "        print(\"2. Deposit Money\")\n",
        "        print(\"3. Withdraw Money\")\n",
        "        print(\"4. Exit\")\n",
        "\n",
        "        choice = input(\"Please select an option (1-4): \")\n",
        "\n",
        "        if choice == '1':\n",
        "            atm.check_balance()\n",
        "        elif choice == '2':\n",
        "            amount = float(input(\"Enter amount to deposit: \"))\n",
        "            atm.deposit(amount)\n",
        "        elif choice == '3':\n",
        "            amount = float(input(\"Enter amount to withdraw: \"))\n",
        "            atm.withdraw(amount)\n",
        "        elif choice == '4':\n",
        "            print(\"Thank you for using the ATM. Goodbye!\")\n",
        "            break\n",
        "        else:\n",
        "            print(\"Invalid option. Please try again.\")\n",
        "\n",
        "if __name__ == \"__main__\":\n",
        "    main()"
      ]
    }
  ]
}